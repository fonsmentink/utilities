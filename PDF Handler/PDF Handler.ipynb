{
 "cells": [
  {
   "cell_type": "markdown",
   "metadata": {},
   "source": [
    "# PDF Handler"
   ]
  },
  {
   "cell_type": "markdown",
   "metadata": {},
   "source": [
    "Small notebook that contains code to split and combine pdf files."
   ]
  },
  {
   "cell_type": "markdown",
   "metadata": {},
   "source": [
    "## 0. Prepare script"
   ]
  },
  {
   "cell_type": "code",
   "execution_count": null,
   "metadata": {},
   "outputs": [],
   "source": [
    "# Import packages\n",
    "import os\n",
    "from PyPDF2 import PdfFileReader, PdfFileWriter"
   ]
  },
  {
   "cell_type": "code",
   "execution_count": null,
   "metadata": {},
   "outputs": [],
   "source": [
    "# Set directory\n",
    "file_location = input(\"Provide location of file that you want to split: \")\n",
    "os.chdir(file_location)\n",
    "print(\"\\nLocation changed to: {}\".format(os.getcwd()))"
   ]
  },
  {
   "cell_type": "markdown",
   "metadata": {},
   "source": [
    "## 1. Split PDFs"
   ]
  },
  {
   "cell_type": "code",
   "execution_count": null,
   "metadata": {},
   "outputs": [],
   "source": [
    "# Function that splits the PDFs\n",
    "def pdf_splitter(full_file_path):\n",
    "    filename = os.path.splitext(os.path.basename(full_file_path))[0]\n",
    "    pdf = PdfFileReader(full_file_path)\n",
    "    \n",
    "    for page in range(pdf.getNumPages()):\n",
    "        pdf_writer = PdfFileWriter()\n",
    "        pdf_writer.addPage(pdf.getPage(page))\n",
    " \n",
    "        filename_out = '{}_page_{}.pdf'.format(\n",
    "            fname, page+1)\n",
    " \n",
    "        with open(filename_out, 'wb') as out:\n",
    "            pdf_writer.write(out)\n",
    " \n",
    "        print('Created: {}'.format(filename_out))"
   ]
  },
  {
   "cell_type": "code",
   "execution_count": null,
   "metadata": {},
   "outputs": [],
   "source": [
    "# Give full path to the file\n",
    "full_file_path = r\"\"\n",
    "\n",
    "# Call function on the file\n",
    "pdf_splitter(full_file_path)"
   ]
  }
 ],
 "metadata": {
  "kernelspec": {
   "display_name": "Python 3",
   "language": "python",
   "name": "python3"
  },
  "language_info": {
   "codemirror_mode": {
    "name": "ipython",
    "version": 3
   },
   "file_extension": ".py",
   "mimetype": "text/x-python",
   "name": "python",
   "nbconvert_exporter": "python",
   "pygments_lexer": "ipython3",
   "version": "3.7.4"
  }
 },
 "nbformat": 4,
 "nbformat_minor": 2
}
